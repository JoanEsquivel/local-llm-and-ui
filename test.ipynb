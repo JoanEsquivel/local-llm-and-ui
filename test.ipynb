{
 "cells": [
  {
   "cell_type": "markdown",
   "id": "7faba63d",
   "metadata": {},
   "source": [
    "# 🧪 test.ipynb: Interact with Ollama API using Python `requests`"
   ]
  },
  {
   "cell_type": "code",
   "execution_count": null,
   "id": "1a67b1fb",
   "metadata": {},
   "outputs": [],
   "source": [
    "## 1️⃣ Requirements\n",
    "\n",
    "Install `requests` if you haven't already:"
   ]
  },
  {
   "cell_type": "code",
   "execution_count": 1,
   "id": "d5d62b66",
   "metadata": {},
   "outputs": [
    {
     "name": "stdout",
     "output_type": "stream",
     "text": [
      "Requirement already satisfied: requests in ./venv-311/lib/python3.11/site-packages (2.32.4)\n",
      "Requirement already satisfied: charset_normalizer<4,>=2 in ./venv-311/lib/python3.11/site-packages (from requests) (3.4.2)\n",
      "Requirement already satisfied: idna<4,>=2.5 in ./venv-311/lib/python3.11/site-packages (from requests) (3.10)\n",
      "Requirement already satisfied: urllib3<3,>=1.21.1 in ./venv-311/lib/python3.11/site-packages (from requests) (2.5.0)\n",
      "Requirement already satisfied: certifi>=2017.4.17 in ./venv-311/lib/python3.11/site-packages (from requests) (2025.8.3)\n",
      "\n",
      "\u001b[1m[\u001b[0m\u001b[34;49mnotice\u001b[0m\u001b[1;39;49m]\u001b[0m\u001b[39;49m A new release of pip is available: \u001b[0m\u001b[31;49m24.0\u001b[0m\u001b[39;49m -> \u001b[0m\u001b[32;49m25.2\u001b[0m\n",
      "\u001b[1m[\u001b[0m\u001b[34;49mnotice\u001b[0m\u001b[1;39;49m]\u001b[0m\u001b[39;49m To update, run: \u001b[0m\u001b[32;49mpip install --upgrade pip\u001b[0m\n",
      "Note: you may need to restart the kernel to use updated packages.\n"
     ]
    }
   ],
   "source": [
    "pip install requests"
   ]
  },
  {
   "cell_type": "markdown",
   "id": "77ca28b4",
   "metadata": {},
   "source": [
    "## Start Ollama Server\n",
    "Start the Ollama server in the background:"
   ]
  },
  {
   "cell_type": "code",
   "execution_count": 8,
   "id": "51e361f8",
   "metadata": {
    "vscode": {
     "languageId": "powershell"
    }
   },
   "outputs": [
    {
     "name": "stdout",
     "output_type": "stream",
     "text": [
      "Service `ollama` already started, use `brew services restart ollama` to restart.\n"
     ]
    }
   ],
   "source": [
    "!brew services start ollama"
   ]
  },
  {
   "cell_type": "code",
   "execution_count": 10,
   "id": "a38231ea",
   "metadata": {
    "vscode": {
     "languageId": "powershell"
    }
   },
   "outputs": [
    {
     "name": "stdout",
     "output_type": "stream",
     "text": [
      "Error: listen tcp 127.0.0.1:11434: bind: address already in use\n"
     ]
    }
   ],
   "source": [
    "!ollama serve"
   ]
  },
  {
   "cell_type": "markdown",
   "id": "6076c433",
   "metadata": {},
   "source": [
    "## Make a Request to Ollama's API\n",
    "Use this Python code in your notebook to send a prompt to the model:\n",
    "\n"
   ]
  },
  {
   "cell_type": "code",
   "execution_count": 12,
   "id": "c44d7ea3",
   "metadata": {
    "vscode": {
     "languageId": "powershell"
    }
   },
   "outputs": [
    {
     "name": "stdout",
     "output_type": "stream",
     "text": [
      "<think>\n",
      "Okay, the user asked for the capital of France. Let me start by recalling that Paris is indeed the correct answer. But maybe they need more than just the name.\n",
      "\n",
      "First, check if there's any confusion between common names and official terms. They might think \"Lyon\" or another major city as a possible alternative. Confirming that Paris is officially recognized should be part of it.\n",
      "\n",
      "Now, considering why they're asking. It could be a simple fact-check for homework or trivia. Or perhaps they want to know related info like landmarks in the capital. Including the Eiffel Tower and Louvre might help them understand significance beyond just being the answer.\n",
      "\n",
      "Also, possible deeper needs: Maybe they’re planning a trip and need guidance on Paris attractions. Or verifying information for an essay, so accuracy is key here. They might not say it directly, but providing context could address those unspoken requirements.\n",
      "\n",
      "Ensure the response is concise yet informative. Avoid markdown as instructed, keep it natural. Check if there's any recent political changes or alternative capitals, but historically and currently, Paris is unchanged. Double-check that to be sure before answering.\n",
      "</think>\n",
      "The capital of France is **Paris**.\n"
     ]
    }
   ],
   "source": [
    "import requests\n",
    "\n",
    "url = \"http://localhost:11434/api/generate\"\n",
    "\n",
    "data = {\n",
    "    \"model\": \"deepseek-r1:8b\",\n",
    "    \"prompt\": \"What is the capital of France?\",\n",
    "    \"stream\": False\n",
    "}\n",
    "\n",
    "response = requests.post(url, json=data)\n",
    "\n",
    "if response.ok:\n",
    "    print(response.json()[\"response\"])\n",
    "else:\n",
    "    print(\"Error:\", response.status_code, response.text)\n"
   ]
  }
 ],
 "metadata": {
  "kernelspec": {
   "display_name": "venv-311",
   "language": "python",
   "name": "python3"
  },
  "language_info": {
   "codemirror_mode": {
    "name": "ipython",
    "version": 3
   },
   "file_extension": ".py",
   "mimetype": "text/x-python",
   "name": "python",
   "nbconvert_exporter": "python",
   "pygments_lexer": "ipython3",
   "version": "3.11.13"
  }
 },
 "nbformat": 4,
 "nbformat_minor": 5
}
